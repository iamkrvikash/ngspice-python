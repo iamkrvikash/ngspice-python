{
 "cells": [
  {
   "cell_type": "code",
   "execution_count": 2,
   "metadata": {},
   "outputs": [],
   "source": [
    "# To import NgSpicedata module\n",
    "# sys.path.append(CPPSIMSHARED_PATH+'\\Python')\n",
    "\n",
    "import sys\n",
    "sys.path.append(r\"C:\\Users\\vikas\\Downloads\")  \n",
    "from ngspicedata import *\n",
    "from pylab import *\n",
    "import matplotlib.pyplot as pl"
   ]
  },
  {
   "cell_type": "code",
   "execution_count": 3,
   "metadata": {},
   "outputs": [
    {
     "name": "stdout",
     "output_type": "stream",
     "text": [
      "0: VOLTAGE\n",
      "1: in\n",
      "2: out\n"
     ]
    }
   ],
   "source": [
    "#Loads the simrun file\n",
    "data=NgspiceData(\"simrun.raw\")\n",
    "\n",
    "# Prints the simulation signal \n",
    "sig_names = data.lssig('print')"
   ]
  },
  {
   "cell_type": "code",
   "execution_count": 4,
   "metadata": {},
   "outputs": [
    {
     "data": {
      "image/png": "[encoded data removed]",
      "text/plain": [
       "<Figure size 432x288 with 1 Axes>"
      ]
     },
     "metadata": {
      "needs_background": "light"
     },
     "output_type": "display_data"
    }
   ],
   "source": [
    "#Storing values in x an y\n",
    "x = data.evalsig('in')\n",
    "y= data.evalsig('out')\n",
    "\n",
    "#Plot the Inverter Graph\n",
    "fig = figure(1)\n",
    "fig.clf()\n",
    "plot(x,y,'b-')\n",
    "grid(True)\n",
    "pl.show()    "
   ]
  },
  {
   "cell_type": "code",
   "execution_count": null,
   "metadata": {},
   "outputs": [],
   "source": []
  }
 ],
 "metadata": {
  "kernelspec": {
   "display_name": "Python 3",
   "language": "python",
   "name": "python3"
  },
  "language_info": {
   "codemirror_mode": {
    "name": "ipython",
    "version": 3
   },
   "file_extension": ".py",
   "mimetype": "text/x-python",
   "name": "python",
   "nbconvert_exporter": "python",
   "pygments_lexer": "ipython3",
   "version": "3.7.6"
  }
 },
 "nbformat": 4,
 "nbformat_minor": 4
}
